{
 "cells": [
  {
   "cell_type": "code",
   "execution_count": 6,
   "id": "3c7ca864",
   "metadata": {},
   "outputs": [
    {
     "name": "stdout",
     "output_type": "stream",
     "text": [
      "Collecting matplotlib\n",
      "  Using cached matplotlib-3.5.1-cp39-cp39-macosx_11_0_arm64.whl (7.2 MB)\n",
      "Requirement already satisfied: pyparsing>=2.2.1 in /Users/davidrestrepo/miniforge3/envs/dengue/lib/python3.9/site-packages (from matplotlib) (3.0.4)\n",
      "Requirement already satisfied: python-dateutil>=2.7 in /Users/davidrestrepo/miniforge3/envs/dengue/lib/python3.9/site-packages (from matplotlib) (2.8.2)\n",
      "Collecting kiwisolver>=1.0.1\n",
      "  Using cached kiwisolver-1.4.2-cp39-cp39-macosx_11_0_arm64.whl (63 kB)\n",
      "Collecting cycler>=0.10\n",
      "  Using cached cycler-0.11.0-py3-none-any.whl (6.4 kB)\n",
      "Collecting fonttools>=4.22.0\n",
      "  Downloading fonttools-4.33.3-py3-none-any.whl (930 kB)\n",
      "\u001b[K     |████████████████████████████████| 930 kB 1.9 MB/s eta 0:00:01\n",
      "\u001b[?25hRequirement already satisfied: packaging>=20.0 in /Users/davidrestrepo/miniforge3/envs/dengue/lib/python3.9/site-packages (from matplotlib) (21.3)\n",
      "Requirement already satisfied: pillow>=6.2.0 in /Users/davidrestrepo/.local/lib/python3.9/site-packages (from matplotlib) (9.1.0)\n",
      "Requirement already satisfied: numpy>=1.17 in /Users/davidrestrepo/miniforge3/envs/dengue/lib/python3.9/site-packages (from matplotlib) (1.21.5)\n",
      "Requirement already satisfied: six>=1.5 in /Users/davidrestrepo/miniforge3/envs/dengue/lib/python3.9/site-packages (from python-dateutil>=2.7->matplotlib) (1.16.0)\n",
      "Installing collected packages: kiwisolver, fonttools, cycler, matplotlib\n",
      "Successfully installed cycler-0.11.0 fonttools-4.33.3 kiwisolver-1.4.2 matplotlib-3.5.1\n",
      "Collecting scikit-image\n",
      "  Using cached scikit_image-0.19.2-cp39-cp39-macosx_12_0_arm64.whl (12.4 MB)\n",
      "Requirement already satisfied: numpy>=1.17.0 in /Users/davidrestrepo/miniforge3/envs/dengue/lib/python3.9/site-packages (from scikit-image) (1.21.5)\n",
      "Collecting PyWavelets>=1.1.1\n",
      "  Using cached PyWavelets-1.3.0-cp39-cp39-macosx_11_0_arm64.whl (4.3 MB)\n",
      "Collecting imageio>=2.4.1\n",
      "  Downloading imageio-2.18.0-py3-none-any.whl (3.4 MB)\n",
      "\u001b[K     |████████████████████████████████| 3.4 MB 249 kB/s eta 0:00:01\n",
      "\u001b[?25hRequirement already satisfied: packaging>=20.0 in /Users/davidrestrepo/miniforge3/envs/dengue/lib/python3.9/site-packages (from scikit-image) (21.3)\n",
      "Requirement already satisfied: pillow!=7.1.0,!=7.1.1,!=8.3.0,>=6.1.0 in /Users/davidrestrepo/.local/lib/python3.9/site-packages (from scikit-image) (9.1.0)\n",
      "Collecting scipy>=1.4.1\n",
      "  Using cached scipy-1.8.0-cp39-cp39-macosx_12_0_arm64.whl (28.7 MB)\n",
      "Collecting tifffile>=2019.7.26\n",
      "  Downloading tifffile-2022.4.26-py3-none-any.whl (191 kB)\n",
      "\u001b[K     |████████████████████████████████| 191 kB 848 kB/s eta 0:00:01\n",
      "\u001b[?25hCollecting networkx>=2.2\n",
      "  Using cached networkx-2.8-py3-none-any.whl (2.0 MB)\n",
      "Requirement already satisfied: pyparsing!=3.0.5,>=2.0.2 in /Users/davidrestrepo/miniforge3/envs/dengue/lib/python3.9/site-packages (from packaging>=20.0->scikit-image) (3.0.4)\n",
      "Installing collected packages: tifffile, scipy, PyWavelets, networkx, imageio, scikit-image\n",
      "Successfully installed PyWavelets-1.3.0 imageio-2.18.0 networkx-2.8 scikit-image-0.19.2 scipy-1.8.0 tifffile-2022.4.26\n",
      "Collecting scikit-learn\n",
      "  Using cached scikit_learn-1.0.2-cp39-cp39-macosx_12_0_arm64.whl (6.9 MB)\n",
      "Requirement already satisfied: scipy>=1.1.0 in /Users/davidrestrepo/miniforge3/envs/dengue/lib/python3.9/site-packages (from scikit-learn) (1.8.0)\n",
      "Requirement already satisfied: numpy>=1.14.6 in /Users/davidrestrepo/miniforge3/envs/dengue/lib/python3.9/site-packages (from scikit-learn) (1.21.5)\n",
      "Collecting joblib>=0.11\n",
      "  Using cached joblib-1.1.0-py2.py3-none-any.whl (306 kB)\n",
      "Collecting threadpoolctl>=2.0.0\n",
      "  Using cached threadpoolctl-3.1.0-py3-none-any.whl (14 kB)\n",
      "Installing collected packages: threadpoolctl, joblib, scikit-learn\n",
      "Successfully installed joblib-1.1.0 scikit-learn-1.0.2 threadpoolctl-3.1.0\n",
      "Requirement already satisfied: Pillow in /Users/davidrestrepo/.local/lib/python3.9/site-packages (9.1.0)\n",
      "Requirement already satisfied: numpy in /Users/davidrestrepo/miniforge3/envs/dengue/lib/python3.9/site-packages (1.21.5)\n"
     ]
    }
   ],
   "source": [
    "!pip install matplotlib\n",
    "!pip install scikit-image\n",
    "!pip install scikit-learn\n",
    "!pip install Pillow\n",
    "!pip install numpy"
   ]
  },
  {
   "cell_type": "code",
   "execution_count": 12,
   "id": "7c24e835",
   "metadata": {},
   "outputs": [],
   "source": [
    "import os\n",
    "import shutil\n",
    "\n",
    "import matplotlib.pyplot as plt\n",
    "from PIL import Image\n",
    "from skimage import io\n",
    "import numpy as np\n",
    "from sklearn.model_selection import train_test_split"
   ]
  },
  {
   "cell_type": "code",
   "execution_count": 13,
   "id": "8e8c68ac",
   "metadata": {},
   "outputs": [
    {
     "data": {
      "text/plain": [
       "['50001', '.DS_Store', '54001', '5001', '73001', '76001']"
      ]
     },
     "execution_count": 13,
     "metadata": {},
     "output_type": "execute_result"
    }
   ],
   "source": [
    "# Main Directory\n",
    "train_dir = 'Dataset/'\n",
    "os.listdir(train_dir)"
   ]
  },
  {
   "cell_type": "markdown",
   "id": "838f7364",
   "metadata": {},
   "source": [
    "# Join all Images in one folder"
   ]
  },
  {
   "cell_type": "code",
   "execution_count": 18,
   "id": "c1049266",
   "metadata": {},
   "outputs": [
    {
     "name": "stdout",
     "output_type": "stream",
     "text": [
      "Done!\n"
     ]
    }
   ],
   "source": [
    "# list of folders to be merged\n",
    "list_dir = os.listdir(train_dir)\n",
    "current_folder = train_dir\n",
    "\n",
    "# will be merged\n",
    "merge_folder = \"Merged_Folder\"\n",
    "\n",
    "# merge_folder path\n",
    "merge_folder_path = merge_folder\n",
    "\n",
    "# Create the dictionary of each folder and images\n",
    "# enumerate on list_dir to get the \n",
    "# content of all the folders ans store it in a dictionary\n",
    "content_list = {}\n",
    "for index, val in enumerate(list_dir):\n",
    "    if val == '.DS_Store':\n",
    "        continue\n",
    "    path = os.path.join(current_folder, val)\n",
    "    content_list[ list_dir[index] ] = os.listdir(path)\n",
    "\n",
    "# Create the folder\n",
    "# Function to create new folder if not exists\n",
    "def make_new_folder(folder_name, parent_folder_path):\n",
    "    # Path\n",
    "    path = os.path.join(parent_folder_path, folder_name)\n",
    "    # Create the folder\n",
    "    try:     \n",
    "        # mode of the folder\n",
    "        mode = 0o777\n",
    "        # Create folder\n",
    "        os.mkdir(path, mode) \n",
    "    except OSError as error: \n",
    "        print(error)\n",
    "        print('The folder already exists')\n",
    "# folder in which all the content \n",
    "# create merge_folder if not exists\n",
    "make_new_folder(merge_folder, '.')\n",
    "\n",
    "# Just in case marged folder doesn't exists:\n",
    "\n",
    "# Copy Files into Merge Folder\n",
    "# loop through the list of folders\n",
    "for sub_dir in content_list:\n",
    "    # loop through the contents of the\n",
    "    # list of folders\n",
    "    for contents in content_list[sub_dir]:\n",
    "        # make the path of the content to move \n",
    "        path_to_content = sub_dir + '/' + contents  \n",
    "        path_to_content_renamed =  sub_dir + '_' + contents\n",
    "        # make the path with the current folder\n",
    "        dir_to_move = os.path.join(current_folder, path_to_content)\n",
    "\n",
    "        merge_folder_path_file = os.path.join(merge_folder_path, path_to_content_renamed) \n",
    "        # move the file\n",
    "        shutil.copy2(dir_to_move, merge_folder_path_file)\n",
    "\n",
    "print(\"Done!\")"
   ]
  },
  {
   "cell_type": "code",
   "execution_count": null,
   "id": "fcd976a8",
   "metadata": {},
   "outputs": [],
   "source": []
  }
 ],
 "metadata": {
  "kernelspec": {
   "display_name": "Python 3 (ipykernel)",
   "language": "python",
   "name": "python3"
  },
  "language_info": {
   "codemirror_mode": {
    "name": "ipython",
    "version": 3
   },
   "file_extension": ".py",
   "mimetype": "text/x-python",
   "name": "python",
   "nbconvert_exporter": "python",
   "pygments_lexer": "ipython3",
   "version": "3.9.12"
  }
 },
 "nbformat": 4,
 "nbformat_minor": 5
}
